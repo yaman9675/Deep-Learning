{
 "cells": [
  {
   "cell_type": "code",
   "execution_count": 1,
   "id": "b8a0f336-9fae-4876-b8cd-c851cb9cab95",
   "metadata": {},
   "outputs": [],
   "source": [
    "import tensorflow_hub as hub\n",
    "import tensorflow_text as text"
   ]
  },
  {
   "cell_type": "code",
   "execution_count": 4,
   "id": "b0d1315e-8d76-413b-9b62-070b05906a03",
   "metadata": {},
   "outputs": [],
   "source": [
    "preprocess_url = \"https://tfhub.dev/tensorflow/bert_en_uncased_preprocess/3\"\n",
    "encoder_url = \"https://tfhub.dev/tensorflow/bert_en_uncased_L-12_H-768_A-12/4\""
   ]
  },
  {
   "cell_type": "code",
   "execution_count": 5,
   "id": "c630809a-6b0a-440d-a957-9e9cb9c6b690",
   "metadata": {},
   "outputs": [
    {
     "name": "stdout",
     "output_type": "stream",
     "text": [
      "WARNING:tensorflow:Please fix your imports. Module tensorflow.python.training.tracking.data_structures has been moved to tensorflow.python.trackable.data_structures. The old module will be deleted in version 2.11.\n"
     ]
    }
   ],
   "source": [
    "bert_preprocess_model = hub.KerasLayer(preprocess_url)"
   ]
  },
  {
   "cell_type": "code",
   "execution_count": 6,
   "id": "a863fb12-3936-4655-938b-3fdc07ad7cab",
   "metadata": {},
   "outputs": [
    {
     "data": {
      "text/plain": [
       "dict_keys(['input_mask', 'input_type_ids', 'input_word_ids'])"
      ]
     },
     "execution_count": 6,
     "metadata": {},
     "output_type": "execute_result"
    }
   ],
   "source": [
    "text_test = ['nice movie indeed','I love python programming']\n",
    "text_preprocess = bert_preprocess_model(text_test)\n",
    "text_preprocess.keys()"
   ]
  },
  {
   "cell_type": "code",
   "execution_count": 10,
   "id": "29b30541-934a-465c-a743-84d7e715d4c9",
   "metadata": {},
   "outputs": [],
   "source": [
    "#text_preprocess['input_mask']\n",
    "# CLS nice movie indeed SEP (That's why we have 5 token)"
   ]
  },
  {
   "cell_type": "code",
   "execution_count": 11,
   "id": "83cae922-bcc9-4012-a557-5bfd41a20e87",
   "metadata": {},
   "outputs": [],
   "source": [
    "#text_preprocess['input_type_ids']"
   ]
  },
  {
   "cell_type": "code",
   "execution_count": 12,
   "id": "4ff0861e-259d-4cf4-a8d1-bc05a229cec9",
   "metadata": {
    "scrolled": true
   },
   "outputs": [],
   "source": [
    "#text_preprocess['input_word_ids']"
   ]
  },
  {
   "cell_type": "code",
   "execution_count": 13,
   "id": "ae50f092-4f4c-42a7-bedf-292b4d3490e5",
   "metadata": {},
   "outputs": [
    {
     "data": {
      "text/plain": [
       "dict_keys(['pooled_output', 'sequence_output', 'encoder_outputs', 'default'])"
      ]
     },
     "execution_count": 13,
     "metadata": {},
     "output_type": "execute_result"
    }
   ],
   "source": [
    "bert_model = hub.KerasLayer(encoder_url)\n",
    "bert_result = bert_model(text_preprocess)\n",
    "bert_result.keys()"
   ]
  },
  {
   "cell_type": "code",
   "execution_count": 14,
   "id": "c2343ef6-0d44-4404-8b32-7578d3ca4352",
   "metadata": {},
   "outputs": [
    {
     "data": {
      "text/plain": [
       "<tf.Tensor: shape=(2, 768), dtype=float32, numpy=\n",
       "array([[-0.7916381 , -0.21401832,  0.49778825, ...,  0.2445495 ,\n",
       "        -0.47325817,  0.8175386 ],\n",
       "       [-0.91703737, -0.47904378, -0.78609234, ..., -0.61709267,\n",
       "        -0.71006066,  0.9218161 ]], dtype=float32)>"
      ]
     },
     "execution_count": 14,
     "metadata": {},
     "output_type": "execute_result"
    }
   ],
   "source": [
    "bert_result['pooled_output'] # Embedding vector for two above sentence"
   ]
  },
  {
   "cell_type": "code",
   "execution_count": 15,
   "id": "2430821e-a83f-4160-8bc7-ce73e6e9d429",
   "metadata": {
    "scrolled": true
   },
   "outputs": [
    {
     "data": {
      "text/plain": [
       "<tf.Tensor: shape=(2, 128, 768), dtype=float32, numpy=\n",
       "array([[[ 0.07296449,  0.08557408,  0.14468797, ..., -0.09657122,\n",
       "          0.08712933,  0.07727157],\n",
       "        [ 0.17859878, -0.19009805,  0.5033989 , ..., -0.05882023,\n",
       "          0.32694456, -0.15579712],\n",
       "        [ 0.18710195, -0.4340848 , -0.48876804, ..., -0.15496314,\n",
       "          0.00146329, -0.24453509],\n",
       "        ...,\n",
       "        [ 0.12061725,  0.12885782,  0.4645589 , ...,  0.07372758,\n",
       "          0.17414734,  0.1653504 ],\n",
       "        [ 0.07949206, -0.01211711,  0.5025364 , ...,  0.13790885,\n",
       "          0.20990229,  0.0061568 ],\n",
       "        [-0.0722513 , -0.2831484 ,  0.59030867, ...,  0.47551867,\n",
       "          0.16647315, -0.08913229]],\n",
       "\n",
       "       [[-0.07882559,  0.36319512, -0.21078998, ..., -0.17139482,\n",
       "          0.16300714,  0.67262447],\n",
       "        [ 0.2789909 ,  0.43677995, -0.35746235, ..., -0.04435221,\n",
       "          0.38312963,  0.5891633 ],\n",
       "        [ 1.2044512 ,  1.0724102 ,  0.48439223, ...,  0.24897118,\n",
       "          0.40699008,  0.40525174],\n",
       "        ...,\n",
       "        [ 0.08644059,  0.19355358,  0.4755128 , ...,  0.18913685,\n",
       "         -0.06514803,  0.31290343],\n",
       "        [ 0.15897281,  0.2859407 ,  0.37363648, ...,  0.0936095 ,\n",
       "         -0.04997791,  0.3875134 ],\n",
       "        [-0.0810025 , -0.09564938,  0.2681016 , ...,  0.14011303,\n",
       "         -0.06344866,  0.27285308]]], dtype=float32)>"
      ]
     },
     "execution_count": 15,
     "metadata": {},
     "output_type": "execute_result"
    }
   ],
   "source": [
    "bert_result['sequence_output'] # Indivitual word Embedding vector"
   ]
  },
  {
   "cell_type": "code",
   "execution_count": 17,
   "id": "d348ef59-751b-45f2-9bda-70972275a377",
   "metadata": {},
   "outputs": [
    {
     "data": {
      "text/plain": [
       "12"
      ]
     },
     "execution_count": 17,
     "metadata": {},
     "output_type": "execute_result"
    }
   ],
   "source": [
    "len(bert_result['encoder_outputs']) # We are using BERT Base"
   ]
  },
  {
   "cell_type": "code",
   "execution_count": 21,
   "id": "ec3bb9c7-21bd-4123-860f-f2257f12528a",
   "metadata": {
    "scrolled": true
   },
   "outputs": [
    {
     "data": {
      "text/plain": [
       "<tf.Tensor: shape=(2, 128, 768), dtype=float32, numpy=\n",
       "array([[[ 0.07296449,  0.08557408,  0.14468797, ..., -0.09657122,\n",
       "          0.08712933,  0.07727157],\n",
       "        [ 0.17859878, -0.19009805,  0.5033989 , ..., -0.05882023,\n",
       "          0.32694456, -0.15579712],\n",
       "        [ 0.18710195, -0.4340848 , -0.48876804, ..., -0.15496314,\n",
       "          0.00146329, -0.24453509],\n",
       "        ...,\n",
       "        [ 0.12061725,  0.12885782,  0.4645589 , ...,  0.07372758,\n",
       "          0.17414734,  0.1653504 ],\n",
       "        [ 0.07949206, -0.01211711,  0.5025364 , ...,  0.13790885,\n",
       "          0.20990229,  0.0061568 ],\n",
       "        [-0.0722513 , -0.2831484 ,  0.59030867, ...,  0.47551867,\n",
       "          0.16647315, -0.08913229]],\n",
       "\n",
       "       [[-0.07882559,  0.36319512, -0.21078998, ..., -0.17139482,\n",
       "          0.16300714,  0.67262447],\n",
       "        [ 0.2789909 ,  0.43677995, -0.35746235, ..., -0.04435221,\n",
       "          0.38312963,  0.5891633 ],\n",
       "        [ 1.2044512 ,  1.0724102 ,  0.48439223, ...,  0.24897118,\n",
       "          0.40699008,  0.40525174],\n",
       "        ...,\n",
       "        [ 0.08644059,  0.19355358,  0.4755128 , ...,  0.18913685,\n",
       "         -0.06514803,  0.31290343],\n",
       "        [ 0.15897281,  0.2859407 ,  0.37363648, ...,  0.0936095 ,\n",
       "         -0.04997791,  0.3875134 ],\n",
       "        [-0.0810025 , -0.09564938,  0.2681016 , ...,  0.14011303,\n",
       "         -0.06344866,  0.27285308]]], dtype=float32)>"
      ]
     },
     "execution_count": 21,
     "metadata": {},
     "output_type": "execute_result"
    }
   ],
   "source": [
    "bert_result['encoder_outputs'][-1]"
   ]
  },
  {
   "cell_type": "code",
   "execution_count": null,
   "id": "4f35f28c-3852-46d2-8ce8-a90e03eda95e",
   "metadata": {},
   "outputs": [],
   "source": []
  }
 ],
 "metadata": {
  "kernelspec": {
   "display_name": "Python 3 (ipykernel)",
   "language": "python",
   "name": "python3"
  },
  "language_info": {
   "codemirror_mode": {
    "name": "ipython",
    "version": 3
   },
   "file_extension": ".py",
   "mimetype": "text/x-python",
   "name": "python",
   "nbconvert_exporter": "python",
   "pygments_lexer": "ipython3",
   "version": "3.9.19"
  }
 },
 "nbformat": 4,
 "nbformat_minor": 5
}
